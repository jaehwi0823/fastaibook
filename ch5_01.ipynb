{
 "cells": [
  {
   "cell_type": "code",
   "execution_count": 3,
   "source": [
    "import torch\r\n",
    "acts = torch.randn((6, 2)) * 2\r\n",
    "acts"
   ],
   "outputs": [
    {
     "output_type": "execute_result",
     "data": {
      "text/plain": [
       "tensor([[ 3.3160,  0.3095],\n",
       "        [ 0.2496,  3.8757],\n",
       "        [ 2.8256, -0.3437],\n",
       "        [-1.1270,  0.2464],\n",
       "        [-2.4359,  1.6934],\n",
       "        [ 0.2760,  0.0347]])"
      ]
     },
     "metadata": {},
     "execution_count": 3
    }
   ],
   "metadata": {}
  },
  {
   "cell_type": "code",
   "execution_count": 4,
   "source": [
    "acts.sigmoid()"
   ],
   "outputs": [
    {
     "output_type": "execute_result",
     "data": {
      "text/plain": [
       "tensor([[0.9650, 0.5768],\n",
       "        [0.5621, 0.9797],\n",
       "        [0.9440, 0.4149],\n",
       "        [0.2447, 0.5613],\n",
       "        [0.0805, 0.8447],\n",
       "        [0.5686, 0.5087]])"
      ]
     },
     "metadata": {},
     "execution_count": 4
    }
   ],
   "metadata": {}
  },
  {
   "cell_type": "code",
   "execution_count": 7,
   "source": [
    "torch.softmax(acts, dim=1)"
   ],
   "outputs": [
    {
     "output_type": "execute_result",
     "data": {
      "text/plain": [
       "tensor([[0.9529, 0.0471],\n",
       "        [0.0259, 0.9741],\n",
       "        [0.9597, 0.0403],\n",
       "        [0.2021, 0.7979],\n",
       "        [0.0158, 0.9842],\n",
       "        [0.5600, 0.4400]])"
      ]
     },
     "metadata": {},
     "execution_count": 7
    }
   ],
   "metadata": {}
  },
  {
   "cell_type": "code",
   "execution_count": null,
   "source": [],
   "outputs": [],
   "metadata": {}
  }
 ],
 "metadata": {
  "orig_nbformat": 4,
  "language_info": {
   "name": "python",
   "version": "3.9.6",
   "mimetype": "text/x-python",
   "codemirror_mode": {
    "name": "ipython",
    "version": 3
   },
   "pygments_lexer": "ipython3",
   "nbconvert_exporter": "python",
   "file_extension": ".py"
  },
  "kernelspec": {
   "name": "python3",
   "display_name": "Python 3.9.6 64-bit ('fastaibook': conda)"
  },
  "interpreter": {
   "hash": "35289676ae29ad7647c22acc491ddb28de249dfddaed3c011225aedfd0f1ee43"
  }
 },
 "nbformat": 4,
 "nbformat_minor": 2
}